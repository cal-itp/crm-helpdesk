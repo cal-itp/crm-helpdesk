{
 "cells": [
  {
   "cell_type": "code",
   "execution_count": null,
   "metadata": {},
   "outputs": [],
   "source": [
    "import json\n",
    "\n",
    "import pandas as pd"
   ]
  },
  {
   "cell_type": "markdown",
   "metadata": {},
   "source": [
    "**Read the raw JSON data**\n",
    "\n",
    "For each type: `tickets`, `companies`, `customers`, `statuses`, `users` -- build\n",
    "an index for easier lookup later"
   ]
  },
  {
   "cell_type": "code",
   "execution_count": null,
   "metadata": {},
   "outputs": [],
   "source": [
    "with open(\"data/desk/tickets.json\") as fp:\n",
    "    desk_tickets_json = json.load(fp)\n",
    "    print(\"tickets:\", len(desk_tickets_json))\n",
    "    \n",
    "desk_tickets_json_index = { ticket[\"id\"]: ticket for ticket in desk_tickets_json}\n",
    "desk_threads_json = [{ **{\"ticketId\": ticket[\"id\"]}, **thread} for ticket in desk_tickets_json for thread in ticket[\"threads\"]]"
   ]
  },
  {
   "cell_type": "code",
   "execution_count": null,
   "metadata": {},
   "outputs": [],
   "source": [
    "with open(\"data/desk/companies.json\") as fp:\n",
    "    desk_companies_json = json.load(fp)\n",
    "    print(\"companies:\", len(desk_companies_json))\n",
    "\n",
    "desk_companies_json_index = {\n",
    "    company[\"name\"]: company\n",
    "    for company in desk_companies_json\n",
    "    if company[\"name\"]\n",
    "}"
   ]
  },
  {
   "cell_type": "code",
   "execution_count": null,
   "metadata": {},
   "outputs": [],
   "source": [
    "desk_customers_json = []\n",
    "\n",
    "for file in [\"data/desk/customers-1.json\", \"data/desk/customers-2.json\"]:\n",
    "    with open(file) as fp:\n",
    "        desk_customers_json.extend(json.load(fp))\n",
    "\n",
    "print(\"customers:\", len(desk_customers_json))\n",
    "\n",
    "desk_customers_json_index = { customer[\"id\"]: customer for customer in desk_customers_json}"
   ]
  },
  {
   "cell_type": "code",
   "execution_count": null,
   "metadata": {},
   "outputs": [],
   "source": [
    "with open(\"data/desk/statuses.json\") as fp:\n",
    "    desk_statuses_json = json.load(fp)\n",
    "\n",
    "desk_statuses_json_index = { status[\"id\"]: status[\"name\"] for status in desk_statuses_json}"
   ]
  },
  {
   "cell_type": "code",
   "execution_count": null,
   "metadata": {},
   "outputs": [],
   "source": [
    "with open(\"data/desk/users.json\") as fp:\n",
    "    desk_users_json = json.load(fp)\n",
    "    print(\"users:\", len(desk_users_json))\n",
    "\n",
    "desk_users_json_index = { user[\"id\"]: user for user in desk_users_json}"
   ]
  },
  {
   "cell_type": "markdown",
   "metadata": {},
   "source": [
    "**Helpers for creating Hubspot formatted data**\n",
    "\n",
    "Using the raw JSON data from above, convert to Hubspot field names/format"
   ]
  },
  {
   "cell_type": "code",
   "execution_count": null,
   "metadata": {},
   "outputs": [],
   "source": [
    "def get_ticket_data(ticket):\n",
    "    ticket_data = {\n",
    "        \"ticket_id\": ticket[\"id\"],\n",
    "        \"ticket_status\": desk_statuses_json_index.get(ticket[\"ticketStatusID\"], \"CLOSED\"),\n",
    "        \"ticket_name\": f\"{ticket['subject']} ({ticket['id']})\",\n",
    "        \"ticket_pipeline\": \"Support Pipeline\"\n",
    "    }\n",
    "    return ticket_data"
   ]
  },
  {
   "cell_type": "code",
   "execution_count": null,
   "metadata": {},
   "outputs": [],
   "source": [
    "def get_contact_data(ticket):\n",
    "    contact_data = {}\n",
    "    customer_id = ticket.get(\"customerID\")\n",
    "    if customer_id and customer_id in desk_customers_json_index:\n",
    "        customer = desk_customers_json_index[customer_id]\n",
    "        contact_data = {\n",
    "            \"contact_first_name\": customer[\"firstName\"],\n",
    "            \"contact_last_name\": customer[\"lastName\"],\n",
    "            \"contact_email\": customer[\"email\"],\n",
    "            \"contact_job_title\": customer[\"jobTitle\"],\n",
    "        }\n",
    "    return contact_data"
   ]
  },
  {
   "cell_type": "code",
   "execution_count": null,
   "metadata": {},
   "outputs": [],
   "source": [
    "def get_company_data(ticket):\n",
    "    company_data = {}\n",
    "    customer_id = ticket.get(\"customerID\")\n",
    "    if customer_id and customer_id in desk_customers_json_index:\n",
    "        customer = desk_customers_json_index[customer_id]\n",
    "        company = desk_companies_json_index.get(customer[\"company\"])\n",
    "        if company:\n",
    "            company_data = {\n",
    "                \"company_name\": company[\"name\"],\n",
    "                \"company_domain_name\": company[\"website\"]\n",
    "            }\n",
    "    return company_data"
   ]
  },
  {
   "cell_type": "code",
   "execution_count": null,
   "metadata": {},
   "outputs": [],
   "source": [
    "def get_user_data(ticket):\n",
    "    user_data = {}\n",
    "    assigned_id = ticket.get(\"assignedToID\")\n",
    "    if assigned_id and assigned_id in desk_users_json_index:\n",
    "        user = desk_users_json_index[assigned_id]\n",
    "        user_data = {\n",
    "            \"ticket_owner\": user[\"email\"],\n",
    "        }\n",
    "    return user_data"
   ]
  },
  {
   "cell_type": "markdown",
   "metadata": {},
   "source": [
    "**Tickets conversion**\n",
    "\n",
    "Generate new Hubspot ticket records"
   ]
  },
  {
   "cell_type": "code",
   "execution_count": null,
   "metadata": {},
   "outputs": [],
   "source": [
    "hubspot_tickets_records = []\n",
    "\n",
    "for ticket in desk_tickets_json:\n",
    "    ticket_data = get_ticket_data(ticket)\n",
    "    contact_data = get_contact_data(ticket)\n",
    "    company_data = get_company_data(ticket)\n",
    "    user_data = get_user_data(ticket)\n",
    "\n",
    "    new_record = {\n",
    "        **ticket_data,\n",
    "        **contact_data,\n",
    "        **company_data,\n",
    "        **user_data\n",
    "    }\n",
    "\n",
    "    hubspot_tickets_records.append(new_record)\n",
    "\n",
    "print(len(hubspot_tickets_records))\n",
    "\n",
    "ticket_columns = list(set([t for tk in hubspot_tickets_records for t in tk.keys()]))\n",
    "ticket_columns.sort(reverse=True)\n",
    "print(ticket_columns)"
   ]
  },
  {
   "cell_type": "markdown",
   "metadata": {},
   "source": [
    "**Convert Hubspot ticket data to CSV**\n",
    "\n",
    "Using `pandas`"
   ]
  },
  {
   "cell_type": "code",
   "execution_count": null,
   "metadata": {},
   "outputs": [],
   "source": [
    "ticket_columns.remove(\"ticket_id\")\n",
    "tickets_df = pd.DataFrame.from_records(hubspot_tickets_records, columns=ticket_columns)\n",
    "tickets_df.info()"
   ]
  },
  {
   "cell_type": "code",
   "execution_count": null,
   "metadata": {},
   "outputs": [],
   "source": [
    "tickets_df.to_csv(\"data/hubspot/tickets.csv\", index=False)"
   ]
  },
  {
   "cell_type": "markdown",
   "metadata": {},
   "source": [
    "**Threads conversion**\n",
    "\n",
    "Generate new Hubspot ticket thread (notes) records"
   ]
  },
  {
   "cell_type": "code",
   "execution_count": null,
   "metadata": {},
   "outputs": [],
   "source": [
    "hubspot_tickets_records_index = {ticket[\"ticket_id\"]: ticket for ticket in hubspot_tickets_records}"
   ]
  },
  {
   "cell_type": "code",
   "execution_count": null,
   "metadata": {},
   "outputs": [],
   "source": [
    "hubspot_note_records = []\n",
    "\n",
    "for thread in desk_threads_json:\n",
    "    hubspot_ticket = hubspot_tickets_records_index[thread[\"ticketId\"]]\n",
    "\n",
    "    new_record = {\n",
    "        \"note_activity_date\": thread[\"createdAt\"],\n",
    "        \"ticket_status\": hubspot_ticket[\"ticket_status\"],\n",
    "        \"ticket_name\": hubspot_ticket[\"ticket_name\"],\n",
    "        \"ticket_pipeline\": hubspot_ticket[\"ticket_pipeline\"],\n",
    "        \"note_body\": str(thread[\"body\"]).replace(\"\\r\\n\", \"\\n\").replace(\"\\r\", \"\\n\").replace(\"\\n\", \"\")\n",
    "    }\n",
    "\n",
    "    hubspot_note_records.append(new_record)\n",
    "\n",
    "print(len(hubspot_note_records))\n",
    "\n",
    "note_columns = list(set([n for nt in hubspot_note_records for n in nt.keys()]))\n",
    "note_columns.sort(reverse=True)\n",
    "\n",
    "print(note_columns)"
   ]
  },
  {
   "cell_type": "markdown",
   "metadata": {},
   "source": [
    "**Convert Hubspot notes data to CSV**\n",
    "\n",
    "Using `pandas`"
   ]
  },
  {
   "cell_type": "code",
   "execution_count": null,
   "metadata": {},
   "outputs": [],
   "source": [
    "notes_df = pd.DataFrame.from_records(hubspot_note_records, columns=note_columns)\n",
    "notes_df.info()"
   ]
  },
  {
   "cell_type": "code",
   "execution_count": null,
   "metadata": {},
   "outputs": [],
   "source": [
    "notes_df.to_csv(\"data/hubspot/notes.csv\", index=False)"
   ]
  }
 ],
 "metadata": {
  "kernelspec": {
   "display_name": "Python 3.10.5 ('base')",
   "language": "python",
   "name": "python3"
  },
  "language_info": {
   "codemirror_mode": {
    "name": "ipython",
    "version": 3
   },
   "file_extension": ".py",
   "mimetype": "text/x-python",
   "name": "python",
   "nbconvert_exporter": "python",
   "pygments_lexer": "ipython3",
   "version": "3.10.5"
  },
  "orig_nbformat": 4,
  "vscode": {
   "interpreter": {
    "hash": "d4d1e4263499bec80672ea0156c357c1ee493ec2b1c70f0acce89fc37c4a6abe"
   }
  }
 },
 "nbformat": 4,
 "nbformat_minor": 2
}
